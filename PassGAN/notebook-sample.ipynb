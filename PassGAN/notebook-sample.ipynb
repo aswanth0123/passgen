{
 "cells": [
  {
   "cell_type": "markdown",
   "metadata": {},
   "source": [
    "# PassGAN"
   ]
  },
  {
   "cell_type": "markdown",
   "metadata": {},
   "source": [
    "This Jupyter notebook is mainly for debugging, has same functionality to \"sample.py\"."
   ]
  },
  {
   "cell_type": "markdown",
   "metadata": {},
   "source": [
    "## Dependencies"
   ]
  },
  {
   "cell_type": "code",
   "execution_count": 1,
   "metadata": {},
   "outputs": [
    {
     "name": "stdout",
     "output_type": "stream",
     "text": [
      "WARNING:tensorflow:From c:\\Users\\aswan\\project\\project\\sample\\PassGAN\\tflib\\ops\\l2.py:3: The name tf.disable_v2_behavior is deprecated. Please use tf.compat.v1.disable_v2_behavior instead.\n",
      "\n",
      "WARNING:tensorflow:From c:\\Users\\aswan\\project\\project\\env\\Lib\\site-packages\\tensorflow\\python\\compat\\v2_compat.py:98: disable_resource_variables (from tensorflow.python.ops.resource_variables_toggle) is deprecated and will be removed in a future version.\n",
      "Instructions for updating:\n",
      "non-resource variables are not supported in the long term\n"
     ]
    }
   ],
   "source": [
    "# Libraries\n",
    "import os\n",
    "import time\n",
    "import pickle\n",
    "import argparse\n",
    "import tensorflow as tf\n",
    "import numpy as np\n",
    "\n",
    "# Files\n",
    "import tflib as lib\n",
    "import tflib.ops.l2\n",
    "import tflib.ops.con1\n",
    "import utils\n",
    "import mod1"
   ]
  },
  {
   "cell_type": "code",
   "execution_count": 2,
   "metadata": {},
   "outputs": [
    {
     "name": "stdout",
     "output_type": "stream",
     "text": [
      "2.16.1\n"
     ]
    }
   ],
   "source": [
    "# TensorFlow virsion\n",
    "print(tf.__version__)"
   ]
  },
  {
   "cell_type": "markdown",
   "metadata": {},
   "source": [
    "## Parameters"
   ]
  },
  {
   "cell_type": "markdown",
   "metadata": {},
   "source": [
    "To simplify migration process between Jupyter Notebook and .py format, we created virtual ArgumentParser class."
   ]
  },
  {
   "cell_type": "code",
   "execution_count": 23,
   "metadata": {},
   "outputs": [],
   "source": [
    "# Class to virtualize ArgumentParser\n",
    "class VirtualArgparse:\n",
    "    \n",
    "    # Name of directory where pickle dictyonary is stored\n",
    "    input_dir = \"pretrained\"\n",
    "    \n",
    "    # TensorFlow checkpoint\n",
    "    checkpoint = \"pretrained/checkpoints/checkpoint_200000.ckpt\"\n",
    "    \n",
    "    # Name of file to output generated passwords\n",
    "    output = \"generated_pass1.txt\"\n",
    "    \n",
    "    # Batch size\n",
    "    batch_size = 1024\n",
    "    \n",
    "    # Number of password to generate\n",
    "    num_samples = 1000000\n",
    "    \n",
    "    # Max length of password to generate (Training-Dependent)\n",
    "    seq_length = 10\n",
    "    \n",
    "    # Number of nodes on hidden layers (Training-Dependent)\n",
    "    layer_dim = 128"
   ]
  },
  {
   "cell_type": "code",
   "execution_count": 24,
   "metadata": {},
   "outputs": [],
   "source": [
    "# Virtualize ArgumentParser instance\n",
    "args = VirtualArgparse()"
   ]
  },
  {
   "cell_type": "markdown",
   "metadata": {},
   "source": [
    "## Importing Dictionary"
   ]
  },
  {
   "cell_type": "code",
   "execution_count": 25,
   "metadata": {},
   "outputs": [],
   "source": [
    "# Dictionary\n",
    "with open(os.path.join(args.input_dir, 'charmap.pickle'), 'rb') as f:\n",
    "    charmap = pickle.load(f, encoding='latin1')\n",
    "\n",
    "# Reverse-Dictionary\n",
    "with open(os.path.join(args.input_dir, 'charmap_inv.pickle'), 'rb') as f:\n",
    "    inv_charmap = pickle.load(f, encoding='latin1')"
   ]
  },
  {
   "cell_type": "markdown",
   "metadata": {},
   "source": [
    "## Creating Generator"
   ]
  },
  {
   "cell_type": "code",
   "execution_count": 28,
   "metadata": {},
   "outputs": [
    {
     "name": "stdout",
     "output_type": "stream",
     "text": [
      "Linear layer: Generator.Input, Input dim: 128, Output dim: 1280\n",
      "Weight values shape: (128, 1280), dtype: float32\n",
      "Created weight: <tf.Variable 'Generator.Input/Generator.Input.W:0' shape=(128, 1280) dtype=float32_ref>\n",
      "Result shape: (1024, 1280), dtype: <dtype: 'float32'>\n"
     ]
    }
   ],
   "source": [
    "fake_inputs = mod1.Generator(args.batch_size, args.seq_length, args.layer_dim, len(charmap))"
   ]
  },
  {
   "cell_type": "markdown",
   "metadata": {},
   "source": [
    "## Starting TensorFlow Session"
   ]
  },
  {
   "cell_type": "code",
   "execution_count": 35,
   "metadata": {},
   "outputs": [
    {
     "name": "stdout",
     "output_type": "stream",
     "text": [
      "INFO:tensorflow:Restoring parameters from pretrained/checkpoints/checkpoint_200000.ckpt\n"
     ]
    },
    {
     "ename": "InvalidArgumentError",
     "evalue": "Graph execution error:\n\nDetected at node 'Reshape_19' defined at (most recent call last):\n    File \"<frozen runpy>\", line 198, in _run_module_as_main\n    File \"<frozen runpy>\", line 88, in _run_code\n    File \"c:\\Users\\aswan\\project\\project\\env\\Lib\\site-packages\\ipykernel_launcher.py\", line 18, in <module>\n    File \"c:\\Users\\aswan\\project\\project\\env\\Lib\\site-packages\\traitlets\\config\\application.py\", line 1075, in launch_instance\n    File \"c:\\Users\\aswan\\project\\project\\env\\Lib\\site-packages\\ipykernel\\kernelapp.py\", line 739, in start\n    File \"c:\\Users\\aswan\\project\\project\\env\\Lib\\site-packages\\tornado\\platform\\asyncio.py\", line 205, in start\n    File \"C:\\Program Files\\Python311\\Lib\\asyncio\\base_events.py\", line 607, in run_forever\n    File \"C:\\Program Files\\Python311\\Lib\\asyncio\\base_events.py\", line 1922, in _run_once\n    File \"C:\\Program Files\\Python311\\Lib\\asyncio\\events.py\", line 80, in _run\n    File \"c:\\Users\\aswan\\project\\project\\env\\Lib\\site-packages\\ipykernel\\kernelbase.py\", line 545, in dispatch_queue\n    File \"c:\\Users\\aswan\\project\\project\\env\\Lib\\site-packages\\ipykernel\\kernelbase.py\", line 534, in process_one\n    File \"c:\\Users\\aswan\\project\\project\\env\\Lib\\site-packages\\ipykernel\\kernelbase.py\", line 437, in dispatch_shell\n    File \"c:\\Users\\aswan\\project\\project\\env\\Lib\\site-packages\\ipykernel\\ipkernel.py\", line 362, in execute_request\n    File \"c:\\Users\\aswan\\project\\project\\env\\Lib\\site-packages\\ipykernel\\kernelbase.py\", line 778, in execute_request\n    File \"c:\\Users\\aswan\\project\\project\\env\\Lib\\site-packages\\ipykernel\\ipkernel.py\", line 449, in do_execute\n    File \"c:\\Users\\aswan\\project\\project\\env\\Lib\\site-packages\\ipykernel\\zmqshell.py\", line 549, in run_cell\n    File \"c:\\Users\\aswan\\project\\project\\env\\Lib\\site-packages\\IPython\\core\\interactiveshell.py\", line 3075, in run_cell\n    File \"c:\\Users\\aswan\\project\\project\\env\\Lib\\site-packages\\IPython\\core\\interactiveshell.py\", line 3130, in _run_cell\n    File \"c:\\Users\\aswan\\project\\project\\env\\Lib\\site-packages\\IPython\\core\\async_helpers.py\", line 129, in _pseudo_sync_runner\n    File \"c:\\Users\\aswan\\project\\project\\env\\Lib\\site-packages\\IPython\\core\\interactiveshell.py\", line 3334, in run_cell_async\n    File \"c:\\Users\\aswan\\project\\project\\env\\Lib\\site-packages\\IPython\\core\\interactiveshell.py\", line 3517, in run_ast_nodes\n    File \"c:\\Users\\aswan\\project\\project\\env\\Lib\\site-packages\\IPython\\core\\interactiveshell.py\", line 3577, in run_code\n    File \"C:\\Users\\aswan\\AppData\\Local\\Temp\\ipykernel_27496\\1443941324.py\", line 1, in <module>\n    File \"c:\\Users\\aswan\\project\\project\\sample\\PassGAN\\mod1.py\", line 30, in Generator\n    File \"c:\\Users\\aswan\\project\\project\\sample\\PassGAN\\mod1.py\", line 46, in softmax\nNode: 'Reshape_19'\nInput to reshape is a tensor with 993280 values, but the requested shape has 163840\n\t [[{{node Reshape_19}}]]\n\nOriginal stack trace for 'Reshape_19':\n  File \"<frozen runpy>\", line 198, in _run_module_as_main\n  File \"<frozen runpy>\", line 88, in _run_code\n  File \"c:\\Users\\aswan\\project\\project\\env\\Lib\\site-packages\\ipykernel_launcher.py\", line 18, in <module>\n  File \"c:\\Users\\aswan\\project\\project\\env\\Lib\\site-packages\\traitlets\\config\\application.py\", line 1075, in launch_instance\n  File \"c:\\Users\\aswan\\project\\project\\env\\Lib\\site-packages\\ipykernel\\kernelapp.py\", line 739, in start\n  File \"c:\\Users\\aswan\\project\\project\\env\\Lib\\site-packages\\tornado\\platform\\asyncio.py\", line 205, in start\n  File \"C:\\Program Files\\Python311\\Lib\\asyncio\\base_events.py\", line 607, in run_forever\n  File \"C:\\Program Files\\Python311\\Lib\\asyncio\\base_events.py\", line 1922, in _run_once\n  File \"C:\\Program Files\\Python311\\Lib\\asyncio\\events.py\", line 80, in _run\n  File \"c:\\Users\\aswan\\project\\project\\env\\Lib\\site-packages\\ipykernel\\kernelbase.py\", line 545, in dispatch_queue\n  File \"c:\\Users\\aswan\\project\\project\\env\\Lib\\site-packages\\ipykernel\\kernelbase.py\", line 534, in process_one\n  File \"c:\\Users\\aswan\\project\\project\\env\\Lib\\site-packages\\ipykernel\\kernelbase.py\", line 437, in dispatch_shell\n  File \"c:\\Users\\aswan\\project\\project\\env\\Lib\\site-packages\\ipykernel\\ipkernel.py\", line 362, in execute_request\n  File \"c:\\Users\\aswan\\project\\project\\env\\Lib\\site-packages\\ipykernel\\kernelbase.py\", line 778, in execute_request\n  File \"c:\\Users\\aswan\\project\\project\\env\\Lib\\site-packages\\ipykernel\\ipkernel.py\", line 449, in do_execute\n  File \"c:\\Users\\aswan\\project\\project\\env\\Lib\\site-packages\\ipykernel\\zmqshell.py\", line 549, in run_cell\n  File \"c:\\Users\\aswan\\project\\project\\env\\Lib\\site-packages\\IPython\\core\\interactiveshell.py\", line 3075, in run_cell\n  File \"c:\\Users\\aswan\\project\\project\\env\\Lib\\site-packages\\IPython\\core\\interactiveshell.py\", line 3130, in _run_cell\n  File \"c:\\Users\\aswan\\project\\project\\env\\Lib\\site-packages\\IPython\\core\\async_helpers.py\", line 129, in _pseudo_sync_runner\n  File \"c:\\Users\\aswan\\project\\project\\env\\Lib\\site-packages\\IPython\\core\\interactiveshell.py\", line 3334, in run_cell_async\n  File \"c:\\Users\\aswan\\project\\project\\env\\Lib\\site-packages\\IPython\\core\\interactiveshell.py\", line 3517, in run_ast_nodes\n  File \"c:\\Users\\aswan\\project\\project\\env\\Lib\\site-packages\\IPython\\core\\interactiveshell.py\", line 3577, in run_code\n  File \"C:\\Users\\aswan\\AppData\\Local\\Temp\\ipykernel_27496\\1443941324.py\", line 1, in <module>\n  File \"c:\\Users\\aswan\\project\\project\\sample\\PassGAN\\mod1.py\", line 30, in Generator\n  File \"c:\\Users\\aswan\\project\\project\\sample\\PassGAN\\mod1.py\", line 46, in softmax\n  File \"c:\\Users\\aswan\\project\\project\\env\\Lib\\site-packages\\tensorflow\\python\\ops\\weak_tensor_ops.py\", line 88, in wrapper\n  File \"c:\\Users\\aswan\\project\\project\\env\\Lib\\site-packages\\tensorflow\\python\\util\\traceback_utils.py\", line 150, in error_handler\n  File \"c:\\Users\\aswan\\project\\project\\env\\Lib\\site-packages\\tensorflow\\python\\util\\dispatch.py\", line 1260, in op_dispatch_handler\n  File \"c:\\Users\\aswan\\project\\project\\env\\Lib\\site-packages\\tensorflow\\python\\ops\\array_ops.py\", line 199, in reshape\n  File \"c:\\Users\\aswan\\project\\project\\env\\Lib\\site-packages\\tensorflow\\python\\ops\\gen_array_ops.py\", line 8759, in reshape\n  File \"c:\\Users\\aswan\\project\\project\\env\\Lib\\site-packages\\tensorflow\\python\\framework\\op_def_library.py\", line 796, in _apply_op_helper\n  File \"c:\\Users\\aswan\\project\\project\\env\\Lib\\site-packages\\tensorflow\\python\\framework\\ops.py\", line 2682, in _create_op_internal\n  File \"c:\\Users\\aswan\\project\\project\\env\\Lib\\site-packages\\tensorflow\\python\\framework\\ops.py\", line 1177, in from_node_def\n",
     "output_type": "error",
     "traceback": [
      "\u001b[1;31m---------------------------------------------------------------------------\u001b[0m",
      "\u001b[1;31mInvalidArgumentError\u001b[0m                      Traceback (most recent call last)",
      "File \u001b[1;32mc:\\Users\\aswan\\project\\project\\env\\Lib\\site-packages\\tensorflow\\python\\client\\session.py:1402\u001b[0m, in \u001b[0;36mBaseSession._do_call\u001b[1;34m(self, fn, *args)\u001b[0m\n\u001b[0;32m   1401\u001b[0m \u001b[38;5;28;01mtry\u001b[39;00m:\n\u001b[1;32m-> 1402\u001b[0m   \u001b[38;5;28;01mreturn\u001b[39;00m \u001b[43mfn\u001b[49m\u001b[43m(\u001b[49m\u001b[38;5;241;43m*\u001b[39;49m\u001b[43margs\u001b[49m\u001b[43m)\u001b[49m\n\u001b[0;32m   1403\u001b[0m \u001b[38;5;28;01mexcept\u001b[39;00m errors\u001b[38;5;241m.\u001b[39mOpError \u001b[38;5;28;01mas\u001b[39;00m e:\n",
      "File \u001b[1;32mc:\\Users\\aswan\\project\\project\\env\\Lib\\site-packages\\tensorflow\\python\\client\\session.py:1385\u001b[0m, in \u001b[0;36mBaseSession._do_run.<locals>._run_fn\u001b[1;34m(feed_dict, fetch_list, target_list, options, run_metadata)\u001b[0m\n\u001b[0;32m   1384\u001b[0m \u001b[38;5;28mself\u001b[39m\u001b[38;5;241m.\u001b[39m_extend_graph()\n\u001b[1;32m-> 1385\u001b[0m \u001b[38;5;28;01mreturn\u001b[39;00m \u001b[38;5;28;43mself\u001b[39;49m\u001b[38;5;241;43m.\u001b[39;49m\u001b[43m_call_tf_sessionrun\u001b[49m\u001b[43m(\u001b[49m\u001b[43moptions\u001b[49m\u001b[43m,\u001b[49m\u001b[43m \u001b[49m\u001b[43mfeed_dict\u001b[49m\u001b[43m,\u001b[49m\u001b[43m \u001b[49m\u001b[43mfetch_list\u001b[49m\u001b[43m,\u001b[49m\n\u001b[0;32m   1386\u001b[0m \u001b[43m                                \u001b[49m\u001b[43mtarget_list\u001b[49m\u001b[43m,\u001b[49m\u001b[43m \u001b[49m\u001b[43mrun_metadata\u001b[49m\u001b[43m)\u001b[49m\n",
      "File \u001b[1;32mc:\\Users\\aswan\\project\\project\\env\\Lib\\site-packages\\tensorflow\\python\\client\\session.py:1478\u001b[0m, in \u001b[0;36mBaseSession._call_tf_sessionrun\u001b[1;34m(self, options, feed_dict, fetch_list, target_list, run_metadata)\u001b[0m\n\u001b[0;32m   1476\u001b[0m \u001b[38;5;28;01mdef\u001b[39;00m \u001b[38;5;21m_call_tf_sessionrun\u001b[39m(\u001b[38;5;28mself\u001b[39m, options, feed_dict, fetch_list, target_list,\n\u001b[0;32m   1477\u001b[0m                         run_metadata):\n\u001b[1;32m-> 1478\u001b[0m   \u001b[38;5;28;01mreturn\u001b[39;00m \u001b[43mtf_session\u001b[49m\u001b[38;5;241;43m.\u001b[39;49m\u001b[43mTF_SessionRun_wrapper\u001b[49m\u001b[43m(\u001b[49m\u001b[38;5;28;43mself\u001b[39;49m\u001b[38;5;241;43m.\u001b[39;49m\u001b[43m_session\u001b[49m\u001b[43m,\u001b[49m\u001b[43m \u001b[49m\u001b[43moptions\u001b[49m\u001b[43m,\u001b[49m\u001b[43m \u001b[49m\u001b[43mfeed_dict\u001b[49m\u001b[43m,\u001b[49m\n\u001b[0;32m   1479\u001b[0m \u001b[43m                                          \u001b[49m\u001b[43mfetch_list\u001b[49m\u001b[43m,\u001b[49m\u001b[43m \u001b[49m\u001b[43mtarget_list\u001b[49m\u001b[43m,\u001b[49m\n\u001b[0;32m   1480\u001b[0m \u001b[43m                                          \u001b[49m\u001b[43mrun_metadata\u001b[49m\u001b[43m)\u001b[49m\n",
      "\u001b[1;31mInvalidArgumentError\u001b[0m: Input to reshape is a tensor with 993280 values, but the requested shape has 163840\n\t [[{{node Reshape_19}}]]",
      "\nDuring handling of the above exception, another exception occurred:\n",
      "\u001b[1;31mInvalidArgumentError\u001b[0m                      Traceback (most recent call last)",
      "Cell \u001b[1;32mIn[35], line 31\u001b[0m\n\u001b[0;32m     29\u001b[0m start \u001b[38;5;241m=\u001b[39m time\u001b[38;5;241m.\u001b[39mtime()\n\u001b[0;32m     30\u001b[0m \u001b[38;5;28;01mfor\u001b[39;00m i \u001b[38;5;129;01min\u001b[39;00m \u001b[38;5;28mrange\u001b[39m(\u001b[38;5;28mint\u001b[39m(args\u001b[38;5;241m.\u001b[39mnum_samples \u001b[38;5;241m/\u001b[39m args\u001b[38;5;241m.\u001b[39mbatch_size)):\n\u001b[1;32m---> 31\u001b[0m     samples\u001b[38;5;241m.\u001b[39mextend(\u001b[43mgenerate_samples\u001b[49m\u001b[43m(\u001b[49m\u001b[43msession\u001b[49m\u001b[43m,\u001b[49m\u001b[43m \u001b[49m\u001b[43mfake_inputs\u001b[49m\u001b[43m,\u001b[49m\u001b[43m \u001b[49m\u001b[43minv_charmap\u001b[49m\u001b[43m)\u001b[49m)\n\u001b[0;32m     33\u001b[0m     \u001b[38;5;66;03m# Append to output file every 1000 batches\u001b[39;00m\n\u001b[0;32m     34\u001b[0m     \u001b[38;5;28;01mif\u001b[39;00m i \u001b[38;5;241m%\u001b[39m \u001b[38;5;241m1000\u001b[39m \u001b[38;5;241m==\u001b[39m \u001b[38;5;241m0\u001b[39m \u001b[38;5;129;01mand\u001b[39;00m i \u001b[38;5;241m>\u001b[39m \u001b[38;5;241m0\u001b[39m:\n",
      "Cell \u001b[1;32mIn[35], line 2\u001b[0m, in \u001b[0;36mgenerate_samples\u001b[1;34m(session, fake_inputs, inv_charmap)\u001b[0m\n\u001b[0;32m      1\u001b[0m \u001b[38;5;28;01mdef\u001b[39;00m \u001b[38;5;21mgenerate_samples\u001b[39m(session, fake_inputs, inv_charmap):\n\u001b[1;32m----> 2\u001b[0m     samples \u001b[38;5;241m=\u001b[39m \u001b[43msession\u001b[49m\u001b[38;5;241;43m.\u001b[39;49m\u001b[43mrun\u001b[49m\u001b[43m(\u001b[49m\u001b[43mfake_inputs\u001b[49m\u001b[43m)\u001b[49m\n\u001b[0;32m      3\u001b[0m     \u001b[38;5;28mprint\u001b[39m(\u001b[38;5;124mf\u001b[39m\u001b[38;5;124m\"\u001b[39m\u001b[38;5;124mShape of generated samples before argmax: \u001b[39m\u001b[38;5;132;01m{\u001b[39;00msamples\u001b[38;5;241m.\u001b[39mshape\u001b[38;5;132;01m}\u001b[39;00m\u001b[38;5;124m\"\u001b[39m)\n\u001b[0;32m      4\u001b[0m     samples \u001b[38;5;241m=\u001b[39m np\u001b[38;5;241m.\u001b[39margmax(samples, axis\u001b[38;5;241m=\u001b[39m\u001b[38;5;241m2\u001b[39m)\n",
      "File \u001b[1;32mc:\\Users\\aswan\\project\\project\\env\\Lib\\site-packages\\tensorflow\\python\\client\\session.py:972\u001b[0m, in \u001b[0;36mBaseSession.run\u001b[1;34m(self, fetches, feed_dict, options, run_metadata)\u001b[0m\n\u001b[0;32m    969\u001b[0m run_metadata_ptr \u001b[38;5;241m=\u001b[39m tf_session\u001b[38;5;241m.\u001b[39mTF_NewBuffer() \u001b[38;5;28;01mif\u001b[39;00m run_metadata \u001b[38;5;28;01melse\u001b[39;00m \u001b[38;5;28;01mNone\u001b[39;00m\n\u001b[0;32m    971\u001b[0m \u001b[38;5;28;01mtry\u001b[39;00m:\n\u001b[1;32m--> 972\u001b[0m   result \u001b[38;5;241m=\u001b[39m \u001b[38;5;28;43mself\u001b[39;49m\u001b[38;5;241;43m.\u001b[39;49m\u001b[43m_run\u001b[49m\u001b[43m(\u001b[49m\u001b[38;5;28;43;01mNone\u001b[39;49;00m\u001b[43m,\u001b[49m\u001b[43m \u001b[49m\u001b[43mfetches\u001b[49m\u001b[43m,\u001b[49m\u001b[43m \u001b[49m\u001b[43mfeed_dict\u001b[49m\u001b[43m,\u001b[49m\u001b[43m \u001b[49m\u001b[43moptions_ptr\u001b[49m\u001b[43m,\u001b[49m\n\u001b[0;32m    973\u001b[0m \u001b[43m                     \u001b[49m\u001b[43mrun_metadata_ptr\u001b[49m\u001b[43m)\u001b[49m\n\u001b[0;32m    974\u001b[0m   \u001b[38;5;28;01mif\u001b[39;00m run_metadata:\n\u001b[0;32m    975\u001b[0m     proto_data \u001b[38;5;241m=\u001b[39m tf_session\u001b[38;5;241m.\u001b[39mTF_GetBuffer(run_metadata_ptr)\n",
      "File \u001b[1;32mc:\\Users\\aswan\\project\\project\\env\\Lib\\site-packages\\tensorflow\\python\\client\\session.py:1215\u001b[0m, in \u001b[0;36mBaseSession._run\u001b[1;34m(self, handle, fetches, feed_dict, options, run_metadata)\u001b[0m\n\u001b[0;32m   1212\u001b[0m \u001b[38;5;66;03m# We only want to really perform the run if fetches or targets are provided,\u001b[39;00m\n\u001b[0;32m   1213\u001b[0m \u001b[38;5;66;03m# or if the call is a partial run that specifies feeds.\u001b[39;00m\n\u001b[0;32m   1214\u001b[0m \u001b[38;5;28;01mif\u001b[39;00m final_fetches \u001b[38;5;129;01mor\u001b[39;00m final_targets \u001b[38;5;129;01mor\u001b[39;00m (handle \u001b[38;5;129;01mand\u001b[39;00m feed_dict_tensor):\n\u001b[1;32m-> 1215\u001b[0m   results \u001b[38;5;241m=\u001b[39m \u001b[38;5;28;43mself\u001b[39;49m\u001b[38;5;241;43m.\u001b[39;49m\u001b[43m_do_run\u001b[49m\u001b[43m(\u001b[49m\u001b[43mhandle\u001b[49m\u001b[43m,\u001b[49m\u001b[43m \u001b[49m\u001b[43mfinal_targets\u001b[49m\u001b[43m,\u001b[49m\u001b[43m \u001b[49m\u001b[43mfinal_fetches\u001b[49m\u001b[43m,\u001b[49m\n\u001b[0;32m   1216\u001b[0m \u001b[43m                         \u001b[49m\u001b[43mfeed_dict_tensor\u001b[49m\u001b[43m,\u001b[49m\u001b[43m \u001b[49m\u001b[43moptions\u001b[49m\u001b[43m,\u001b[49m\u001b[43m \u001b[49m\u001b[43mrun_metadata\u001b[49m\u001b[43m)\u001b[49m\n\u001b[0;32m   1217\u001b[0m \u001b[38;5;28;01melse\u001b[39;00m:\n\u001b[0;32m   1218\u001b[0m   results \u001b[38;5;241m=\u001b[39m []\n",
      "File \u001b[1;32mc:\\Users\\aswan\\project\\project\\env\\Lib\\site-packages\\tensorflow\\python\\client\\session.py:1395\u001b[0m, in \u001b[0;36mBaseSession._do_run\u001b[1;34m(self, handle, target_list, fetch_list, feed_dict, options, run_metadata)\u001b[0m\n\u001b[0;32m   1392\u001b[0m   \u001b[38;5;28;01mreturn\u001b[39;00m \u001b[38;5;28mself\u001b[39m\u001b[38;5;241m.\u001b[39m_call_tf_sessionprun(handle, feed_dict, fetch_list)\n\u001b[0;32m   1394\u001b[0m \u001b[38;5;28;01mif\u001b[39;00m handle \u001b[38;5;129;01mis\u001b[39;00m \u001b[38;5;28;01mNone\u001b[39;00m:\n\u001b[1;32m-> 1395\u001b[0m   \u001b[38;5;28;01mreturn\u001b[39;00m \u001b[38;5;28;43mself\u001b[39;49m\u001b[38;5;241;43m.\u001b[39;49m\u001b[43m_do_call\u001b[49m\u001b[43m(\u001b[49m\u001b[43m_run_fn\u001b[49m\u001b[43m,\u001b[49m\u001b[43m \u001b[49m\u001b[43mfeeds\u001b[49m\u001b[43m,\u001b[49m\u001b[43m \u001b[49m\u001b[43mfetches\u001b[49m\u001b[43m,\u001b[49m\u001b[43m \u001b[49m\u001b[43mtargets\u001b[49m\u001b[43m,\u001b[49m\u001b[43m \u001b[49m\u001b[43moptions\u001b[49m\u001b[43m,\u001b[49m\n\u001b[0;32m   1396\u001b[0m \u001b[43m                       \u001b[49m\u001b[43mrun_metadata\u001b[49m\u001b[43m)\u001b[49m\n\u001b[0;32m   1397\u001b[0m \u001b[38;5;28;01melse\u001b[39;00m:\n\u001b[0;32m   1398\u001b[0m   \u001b[38;5;28;01mreturn\u001b[39;00m \u001b[38;5;28mself\u001b[39m\u001b[38;5;241m.\u001b[39m_do_call(_prun_fn, handle, feeds, fetches)\n",
      "File \u001b[1;32mc:\\Users\\aswan\\project\\project\\env\\Lib\\site-packages\\tensorflow\\python\\client\\session.py:1421\u001b[0m, in \u001b[0;36mBaseSession._do_call\u001b[1;34m(self, fn, *args)\u001b[0m\n\u001b[0;32m   1416\u001b[0m \u001b[38;5;28;01mif\u001b[39;00m \u001b[38;5;124m'\u001b[39m\u001b[38;5;124monly supports NHWC tensor format\u001b[39m\u001b[38;5;124m'\u001b[39m \u001b[38;5;129;01min\u001b[39;00m message:\n\u001b[0;32m   1417\u001b[0m   message \u001b[38;5;241m+\u001b[39m\u001b[38;5;241m=\u001b[39m (\u001b[38;5;124m'\u001b[39m\u001b[38;5;130;01m\\n\u001b[39;00m\u001b[38;5;124mA possible workaround: Try disabling Grappler optimizer\u001b[39m\u001b[38;5;124m'\u001b[39m\n\u001b[0;32m   1418\u001b[0m               \u001b[38;5;124m'\u001b[39m\u001b[38;5;130;01m\\n\u001b[39;00m\u001b[38;5;124mby modifying the config for creating the session eg.\u001b[39m\u001b[38;5;124m'\u001b[39m\n\u001b[0;32m   1419\u001b[0m               \u001b[38;5;124m'\u001b[39m\u001b[38;5;130;01m\\n\u001b[39;00m\u001b[38;5;124msession_config.graph_options.rewrite_options.\u001b[39m\u001b[38;5;124m'\u001b[39m\n\u001b[0;32m   1420\u001b[0m               \u001b[38;5;124m'\u001b[39m\u001b[38;5;124mdisable_meta_optimizer = True\u001b[39m\u001b[38;5;124m'\u001b[39m)\n\u001b[1;32m-> 1421\u001b[0m \u001b[38;5;28;01mraise\u001b[39;00m \u001b[38;5;28mtype\u001b[39m(e)(node_def, op, message)\n",
      "\u001b[1;31mInvalidArgumentError\u001b[0m: Graph execution error:\n\nDetected at node 'Reshape_19' defined at (most recent call last):\n    File \"<frozen runpy>\", line 198, in _run_module_as_main\n    File \"<frozen runpy>\", line 88, in _run_code\n    File \"c:\\Users\\aswan\\project\\project\\env\\Lib\\site-packages\\ipykernel_launcher.py\", line 18, in <module>\n    File \"c:\\Users\\aswan\\project\\project\\env\\Lib\\site-packages\\traitlets\\config\\application.py\", line 1075, in launch_instance\n    File \"c:\\Users\\aswan\\project\\project\\env\\Lib\\site-packages\\ipykernel\\kernelapp.py\", line 739, in start\n    File \"c:\\Users\\aswan\\project\\project\\env\\Lib\\site-packages\\tornado\\platform\\asyncio.py\", line 205, in start\n    File \"C:\\Program Files\\Python311\\Lib\\asyncio\\base_events.py\", line 607, in run_forever\n    File \"C:\\Program Files\\Python311\\Lib\\asyncio\\base_events.py\", line 1922, in _run_once\n    File \"C:\\Program Files\\Python311\\Lib\\asyncio\\events.py\", line 80, in _run\n    File \"c:\\Users\\aswan\\project\\project\\env\\Lib\\site-packages\\ipykernel\\kernelbase.py\", line 545, in dispatch_queue\n    File \"c:\\Users\\aswan\\project\\project\\env\\Lib\\site-packages\\ipykernel\\kernelbase.py\", line 534, in process_one\n    File \"c:\\Users\\aswan\\project\\project\\env\\Lib\\site-packages\\ipykernel\\kernelbase.py\", line 437, in dispatch_shell\n    File \"c:\\Users\\aswan\\project\\project\\env\\Lib\\site-packages\\ipykernel\\ipkernel.py\", line 362, in execute_request\n    File \"c:\\Users\\aswan\\project\\project\\env\\Lib\\site-packages\\ipykernel\\kernelbase.py\", line 778, in execute_request\n    File \"c:\\Users\\aswan\\project\\project\\env\\Lib\\site-packages\\ipykernel\\ipkernel.py\", line 449, in do_execute\n    File \"c:\\Users\\aswan\\project\\project\\env\\Lib\\site-packages\\ipykernel\\zmqshell.py\", line 549, in run_cell\n    File \"c:\\Users\\aswan\\project\\project\\env\\Lib\\site-packages\\IPython\\core\\interactiveshell.py\", line 3075, in run_cell\n    File \"c:\\Users\\aswan\\project\\project\\env\\Lib\\site-packages\\IPython\\core\\interactiveshell.py\", line 3130, in _run_cell\n    File \"c:\\Users\\aswan\\project\\project\\env\\Lib\\site-packages\\IPython\\core\\async_helpers.py\", line 129, in _pseudo_sync_runner\n    File \"c:\\Users\\aswan\\project\\project\\env\\Lib\\site-packages\\IPython\\core\\interactiveshell.py\", line 3334, in run_cell_async\n    File \"c:\\Users\\aswan\\project\\project\\env\\Lib\\site-packages\\IPython\\core\\interactiveshell.py\", line 3517, in run_ast_nodes\n    File \"c:\\Users\\aswan\\project\\project\\env\\Lib\\site-packages\\IPython\\core\\interactiveshell.py\", line 3577, in run_code\n    File \"C:\\Users\\aswan\\AppData\\Local\\Temp\\ipykernel_27496\\1443941324.py\", line 1, in <module>\n    File \"c:\\Users\\aswan\\project\\project\\sample\\PassGAN\\mod1.py\", line 30, in Generator\n    File \"c:\\Users\\aswan\\project\\project\\sample\\PassGAN\\mod1.py\", line 46, in softmax\nNode: 'Reshape_19'\nInput to reshape is a tensor with 993280 values, but the requested shape has 163840\n\t [[{{node Reshape_19}}]]\n\nOriginal stack trace for 'Reshape_19':\n  File \"<frozen runpy>\", line 198, in _run_module_as_main\n  File \"<frozen runpy>\", line 88, in _run_code\n  File \"c:\\Users\\aswan\\project\\project\\env\\Lib\\site-packages\\ipykernel_launcher.py\", line 18, in <module>\n  File \"c:\\Users\\aswan\\project\\project\\env\\Lib\\site-packages\\traitlets\\config\\application.py\", line 1075, in launch_instance\n  File \"c:\\Users\\aswan\\project\\project\\env\\Lib\\site-packages\\ipykernel\\kernelapp.py\", line 739, in start\n  File \"c:\\Users\\aswan\\project\\project\\env\\Lib\\site-packages\\tornado\\platform\\asyncio.py\", line 205, in start\n  File \"C:\\Program Files\\Python311\\Lib\\asyncio\\base_events.py\", line 607, in run_forever\n  File \"C:\\Program Files\\Python311\\Lib\\asyncio\\base_events.py\", line 1922, in _run_once\n  File \"C:\\Program Files\\Python311\\Lib\\asyncio\\events.py\", line 80, in _run\n  File \"c:\\Users\\aswan\\project\\project\\env\\Lib\\site-packages\\ipykernel\\kernelbase.py\", line 545, in dispatch_queue\n  File \"c:\\Users\\aswan\\project\\project\\env\\Lib\\site-packages\\ipykernel\\kernelbase.py\", line 534, in process_one\n  File \"c:\\Users\\aswan\\project\\project\\env\\Lib\\site-packages\\ipykernel\\kernelbase.py\", line 437, in dispatch_shell\n  File \"c:\\Users\\aswan\\project\\project\\env\\Lib\\site-packages\\ipykernel\\ipkernel.py\", line 362, in execute_request\n  File \"c:\\Users\\aswan\\project\\project\\env\\Lib\\site-packages\\ipykernel\\kernelbase.py\", line 778, in execute_request\n  File \"c:\\Users\\aswan\\project\\project\\env\\Lib\\site-packages\\ipykernel\\ipkernel.py\", line 449, in do_execute\n  File \"c:\\Users\\aswan\\project\\project\\env\\Lib\\site-packages\\ipykernel\\zmqshell.py\", line 549, in run_cell\n  File \"c:\\Users\\aswan\\project\\project\\env\\Lib\\site-packages\\IPython\\core\\interactiveshell.py\", line 3075, in run_cell\n  File \"c:\\Users\\aswan\\project\\project\\env\\Lib\\site-packages\\IPython\\core\\interactiveshell.py\", line 3130, in _run_cell\n  File \"c:\\Users\\aswan\\project\\project\\env\\Lib\\site-packages\\IPython\\core\\async_helpers.py\", line 129, in _pseudo_sync_runner\n  File \"c:\\Users\\aswan\\project\\project\\env\\Lib\\site-packages\\IPython\\core\\interactiveshell.py\", line 3334, in run_cell_async\n  File \"c:\\Users\\aswan\\project\\project\\env\\Lib\\site-packages\\IPython\\core\\interactiveshell.py\", line 3517, in run_ast_nodes\n  File \"c:\\Users\\aswan\\project\\project\\env\\Lib\\site-packages\\IPython\\core\\interactiveshell.py\", line 3577, in run_code\n  File \"C:\\Users\\aswan\\AppData\\Local\\Temp\\ipykernel_27496\\1443941324.py\", line 1, in <module>\n  File \"c:\\Users\\aswan\\project\\project\\sample\\PassGAN\\mod1.py\", line 30, in Generator\n  File \"c:\\Users\\aswan\\project\\project\\sample\\PassGAN\\mod1.py\", line 46, in softmax\n  File \"c:\\Users\\aswan\\project\\project\\env\\Lib\\site-packages\\tensorflow\\python\\ops\\weak_tensor_ops.py\", line 88, in wrapper\n  File \"c:\\Users\\aswan\\project\\project\\env\\Lib\\site-packages\\tensorflow\\python\\util\\traceback_utils.py\", line 150, in error_handler\n  File \"c:\\Users\\aswan\\project\\project\\env\\Lib\\site-packages\\tensorflow\\python\\util\\dispatch.py\", line 1260, in op_dispatch_handler\n  File \"c:\\Users\\aswan\\project\\project\\env\\Lib\\site-packages\\tensorflow\\python\\ops\\array_ops.py\", line 199, in reshape\n  File \"c:\\Users\\aswan\\project\\project\\env\\Lib\\site-packages\\tensorflow\\python\\ops\\gen_array_ops.py\", line 8759, in reshape\n  File \"c:\\Users\\aswan\\project\\project\\env\\Lib\\site-packages\\tensorflow\\python\\framework\\op_def_library.py\", line 796, in _apply_op_helper\n  File \"c:\\Users\\aswan\\project\\project\\env\\Lib\\site-packages\\tensorflow\\python\\framework\\ops.py\", line 2682, in _create_op_internal\n  File \"c:\\Users\\aswan\\project\\project\\env\\Lib\\site-packages\\tensorflow\\python\\framework\\ops.py\", line 1177, in from_node_def\n"
     ]
    }
   ],
   "source": [
    "\n",
    "\n",
    "def generate_samples(session, fake_inputs, inv_charmap):\n",
    "    samples = session.run(fake_inputs)\n",
    "    print(f\"Shape of generated samples before argmax: {samples.shape}\")\n",
    "    samples = np.argmax(samples, axis=2)\n",
    "    print(f\"Shape of generated samples after argmax: {samples.shape}\")\n",
    "    decoded_samples = []\n",
    "    for i in range(len(samples)):\n",
    "        decoded = []\n",
    "        for j in range(len(samples[i])):\n",
    "            decoded.append(inv_charmap[samples[i][j]])\n",
    "        decoded_samples.append(tuple(decoded))\n",
    "    return decoded_samples\n",
    "\n",
    "def save(samples, output):\n",
    "    with open(output, 'a') as f:\n",
    "        for s in samples:\n",
    "            s = \"\".join(s).replace('`', '')\n",
    "            f.write(s + \"\\n\")\n",
    "\n",
    "# Assuming args, fake_inputs, inv_charmap are already defined\n",
    "with tf.compat.v1.Session() as session:\n",
    "    saver = tf.compat.v1.train.Saver()\n",
    "\n",
    "    # Restore model\n",
    "    saver.restore(session, args.checkpoint)\n",
    "\n",
    "    samples = []\n",
    "    then = time.time()\n",
    "    start = time.time()\n",
    "    for i in range(int(args.num_samples / args.batch_size)):\n",
    "        samples.extend(generate_samples(session, fake_inputs, inv_charmap))\n",
    "\n",
    "        # Append to output file every 1000 batches\n",
    "        if i % 1000 == 0 and i > 0:\n",
    "            save(samples, args.output)\n",
    "            samples = []  # flush\n",
    "            print(f\"Wrote {1000 * args.batch_size} samples to {args.output} in {time.time() - then:.2f} seconds. {i * args.batch_size} total.\")\n",
    "            then = time.time()\n",
    "\n",
    "    save(samples, args.output)\n",
    "\n",
    "print(f\"\\nFinished in {time.time() - start:.2f} seconds\")\n"
   ]
  },
  {
   "cell_type": "code",
   "execution_count": 20,
   "metadata": {},
   "outputs": [],
   "source": [
    "# with tf.compat.v1.Session() as session:\n",
    "\n",
    "#     def generate_samples():\n",
    "#         samples = session.run(fake_inputs)\n",
    "#         samples = np.argmax(samples, axis=2)\n",
    "#         decoded_samples = []\n",
    "#         for i in range(len(samples)):\n",
    "#             decoded = []\n",
    "#             for j in range(len(samples[i])):\n",
    "#                 decoded.append(inv_charmap[samples[i][j]])\n",
    "#             decoded_samples.append(tuple(decoded))\n",
    "#         return decoded_samples\n",
    "\n",
    "#     def save(samples):\n",
    "#         with open(args.output, 'a') as f:\n",
    "#                 for s in samples:\n",
    "#                     s = \"\".join(s).replace('`', '')\n",
    "#                     f.write(s + \"\\n\")\n",
    "\n",
    "#     saver = tf.compat.v1.train.Saver()\n",
    "#     saver.restore(session, args.checkpoint)\n",
    "\n",
    "#     samples = []\n",
    "#     then = time.time()\n",
    "#     start = time.time()\n",
    "#     for i in range(int(args.num_samples / args.batch_size)):\n",
    "        \n",
    "#         samples.extend(generate_samples())\n",
    "\n",
    "#         # append to output file every 1000 batches\n",
    "#         if i % 1000 == 0 and i > 0: \n",
    "            \n",
    "#             save(samples)\n",
    "#             samples = [] # flush\n",
    "\n",
    "#             print('wrote {} samples to {} in {:.2f} seconds. {} total.'.format(1000 * args.batch_size, args.output, time.time() - then, i * args.batch_size))\n",
    "#             then = time.time()\n",
    "    \n",
    "#     save(samples)\n",
    "# print('\\nFinished in {:.2f} seconds'.format(time.time() - start))"
   ]
  },
  {
   "cell_type": "code",
   "execution_count": null,
   "metadata": {},
   "outputs": [],
   "source": []
  }
 ],
 "metadata": {
  "kernelspec": {
   "display_name": "env",
   "language": "python",
   "name": "python3"
  },
  "language_info": {
   "codemirror_mode": {
    "name": "ipython",
    "version": 3
   },
   "file_extension": ".py",
   "mimetype": "text/x-python",
   "name": "python",
   "nbconvert_exporter": "python",
   "pygments_lexer": "ipython3",
   "version": "3.11.7"
  }
 },
 "nbformat": 4,
 "nbformat_minor": 2
}
